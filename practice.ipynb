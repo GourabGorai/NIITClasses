{
 "cells": [
  {
   "cell_type": "code",
   "id": "initial_id",
   "metadata": {
    "collapsed": true,
    "ExecuteTime": {
     "end_time": "2024-07-10T15:12:11.958227Z",
     "start_time": "2024-07-10T15:11:50.246233Z"
    }
   },
   "source": [
    "import pandas as pd\n",
    "from sklearn.impute import SimpleImputer\n",
    "from zmq.utils.strtypes import unicode\n",
    "\n",
    "data=pd.read_csv('social media influencers - instagram.csv')"
   ],
   "outputs": [],
   "execution_count": 1
  },
  {
   "metadata": {
    "ExecuteTime": {
     "end_time": "2024-07-10T15:12:11.972201Z",
     "start_time": "2024-07-10T15:12:11.960234Z"
    }
   },
   "cell_type": "code",
   "source": "df=pd.DataFrame(data)",
   "id": "26339c896fa7f5c1",
   "outputs": [],
   "execution_count": 2
  },
  {
   "metadata": {
    "ExecuteTime": {
     "end_time": "2024-07-10T15:12:37.137103Z",
     "start_time": "2024-07-10T15:12:37.114723Z"
    }
   },
   "cell_type": "code",
   "source": "print(df[df.isnull()])",
   "id": "9d5b0e3107f8d23a",
   "outputs": [
    {
     "name": "stdout",
     "output_type": "stream",
     "text": [
      "    Influencer insta name instagram name category_1 category_2 Followers  \\\n",
      "0                     NaN            NaN        NaN        NaN       NaN   \n",
      "1                     NaN            NaN        NaN        NaN       NaN   \n",
      "2                     NaN            NaN        NaN        NaN       NaN   \n",
      "3                     NaN            NaN        NaN        NaN       NaN   \n",
      "4                     NaN            NaN        NaN        NaN       NaN   \n",
      "..                    ...            ...        ...        ...       ...   \n",
      "995                   NaN            NaN        NaN        NaN       NaN   \n",
      "996                   NaN            NaN        NaN        NaN       NaN   \n",
      "997                   NaN            NaN        NaN        NaN       NaN   \n",
      "998                   NaN            NaN        NaN        NaN       NaN   \n",
      "999                   NaN            NaN        NaN        NaN       NaN   \n",
      "\n",
      "    Audience country(mostly) Authentic engagement\\r\\n Engagement avg\\r\\n  \n",
      "0                        NaN                      NaN                NaN  \n",
      "1                        NaN                      NaN                NaN  \n",
      "2                        NaN                      NaN                NaN  \n",
      "3                        NaN                      NaN                NaN  \n",
      "4                        NaN                      NaN                NaN  \n",
      "..                       ...                      ...                ...  \n",
      "995                      NaN                      NaN                NaN  \n",
      "996                      NaN                      NaN                NaN  \n",
      "997                      NaN                      NaN                NaN  \n",
      "998                      NaN                      NaN                NaN  \n",
      "999                      NaN                      NaN                NaN  \n",
      "\n",
      "[1000 rows x 8 columns]\n"
     ]
    }
   ],
   "execution_count": 3
  },
  {
   "metadata": {
    "ExecuteTime": {
     "end_time": "2024-07-10T15:12:45.615692Z",
     "start_time": "2024-07-10T15:12:45.484364Z"
    }
   },
   "cell_type": "code",
   "source": [
    "import numpy as np\n",
    "imp_mean = SimpleImputer(missing_values=np.nan, strategy='median')\n"
   ],
   "id": "3695bf9e295ccfa6",
   "outputs": [],
   "execution_count": 4
  },
  {
   "metadata": {
    "ExecuteTime": {
     "end_time": "2024-07-10T15:12:48.772252Z",
     "start_time": "2024-07-10T15:12:48.589504Z"
    }
   },
   "cell_type": "code",
   "source": [
    "df.isnull()\n",
    "df.isnull().sum()"
   ],
   "id": "744b852b0fb10fa4",
   "outputs": [
    {
     "data": {
      "text/plain": [
       "Influencer insta name         0\n",
       "instagram name               21\n",
       "category_1                  108\n",
       "category_2                  713\n",
       "Followers                     0\n",
       "Audience country(mostly)     14\n",
       "Authentic engagement\\r\\n      0\n",
       "Engagement avg\\r\\n            0\n",
       "dtype: int64"
      ]
     },
     "execution_count": 5,
     "metadata": {},
     "output_type": "execute_result"
    }
   ],
   "execution_count": 5
  },
  {
   "metadata": {
    "ExecuteTime": {
     "end_time": "2024-07-10T15:13:00.042312Z",
     "start_time": "2024-07-10T15:13:00.035435Z"
    }
   },
   "cell_type": "code",
   "source": [
    "def convert_views(views):\n",
    "    if 'K' in views:\n",
    "        return float(views.replace('K', '')) * 1_000\n",
    "    elif 'M' in views:\n",
    "        return float(views.replace('M', '')) * 1_000_000\n",
    "    else:\n",
    "        return float(views)"
   ],
   "id": "4019b0aac39b56e2",
   "outputs": [],
   "execution_count": 6
  },
  {
   "metadata": {
    "ExecuteTime": {
     "end_time": "2024-07-10T15:13:10.164043Z",
     "start_time": "2024-07-10T15:13:10.139094Z"
    }
   },
   "cell_type": "code",
   "source": [
    "unique_v=df['category_1'].unique()\n",
    "print(unique_v)"
   ],
   "id": "366eb33eb4641f6f",
   "outputs": [
    {
     "name": "stdout",
     "output_type": "stream",
     "text": [
      "['Sports with a ball' 'Music' 'Shows' 'Lifestyle' nan\n",
      " 'Humor & Fun & Happiness' 'Cinema & Actors/actresses' 'Beauty'\n",
      " 'Clothing & Outfits' 'Fashion' 'Modeling' 'Food & Cooking' 'Family'\n",
      " 'Fitness & Gym' 'Computers & Gadgets' 'Art/Artists' 'Finance & Economics'\n",
      " 'Cars & Motorbikes' 'Photography' 'Racing Sports'\n",
      " 'Literature & Journalism' 'Business & Careers' 'Animals'\n",
      " 'Nature & landscapes' 'Adult content' 'Accessories & Jewellery'\n",
      " 'Education' 'Management & Marketing' 'Luxury' 'Science'\n",
      " 'Machinery & Technologies' 'Kids & Toys']\n"
     ]
    }
   ],
   "execution_count": 7
  },
  {
   "metadata": {
    "ExecuteTime": {
     "end_time": "2024-07-10T15:13:18.933556Z",
     "start_time": "2024-07-10T15:13:18.898527Z"
    }
   },
   "cell_type": "code",
   "source": [
    "def convert_values(x,unique_v):\n",
    "    count=0\n",
    "    i=0\n",
    "    for j in unique_v:\n",
    "        count=count+1\n",
    "    if x is not np.nan:\n",
    "        while i<len(x):\n",
    "            j=0\n",
    "            while j<count:\n",
    "                if x[i]==unique_v[j]:\n",
    "                    x[i]=j+1\n",
    "                j=j+1\n",
    "            i=i+1\n",
    "    return x\n",
    "unique_v2=df['category_2'].unique()\n",
    "df['category_1']=convert_values(df['category_1'].tolist(),unique_v)\n",
    "df['category_2']=convert_values(df['category_2'].tolist(),unique_v2)\n",
    "print(df['category_1'])"
   ],
   "id": "9f86df5686b5ce27",
   "outputs": [
    {
     "name": "stdout",
     "output_type": "stream",
     "text": [
      "0      1.0\n",
      "1      2.0\n",
      "2      3.0\n",
      "3      4.0\n",
      "4      NaN\n",
      "      ... \n",
      "995    7.0\n",
      "996    1.0\n",
      "997    2.0\n",
      "998    7.0\n",
      "999    4.0\n",
      "Name: category_1, Length: 1000, dtype: float64\n"
     ]
    }
   ],
   "execution_count": 8
  },
  {
   "metadata": {
    "ExecuteTime": {
     "end_time": "2024-07-10T15:13:30.529645Z",
     "start_time": "2024-07-10T15:13:30.487469Z"
    }
   },
   "cell_type": "code",
   "source": [
    "# Instantiate the imputer with your chosen strategy, e.g., 'mean'\n",
    "imputer = SimpleImputer(strategy='mean')\n",
    "\n",
    "# Assuming you want to impute missing values for numerical columns, select them\n",
    "numerical_cols = df.select_dtypes(include=['int64', 'float64']).columns\n",
    "\n",
    "# Fit the imputer and transform the selected column 'category_1'\n",
    "df['category_1'] = imputer.fit_transform(df[['category_1']])\n",
    "df['category_2'] = imputer.fit_transform(df[['category_2']])\n",
    "# Check if there are any missing values left\n",
    "print(df.isnull().sum())\n"
   ],
   "id": "c2f0d0beffab7a54",
   "outputs": [
    {
     "name": "stdout",
     "output_type": "stream",
     "text": [
      "Influencer insta name        0\n",
      "instagram name              21\n",
      "category_1                   0\n",
      "category_2                   0\n",
      "Followers                    0\n",
      "Audience country(mostly)    14\n",
      "Authentic engagement\\r\\n     0\n",
      "Engagement avg\\r\\n           0\n",
      "dtype: int64\n"
     ]
    }
   ],
   "execution_count": 9
  },
  {
   "metadata": {
    "ExecuteTime": {
     "end_time": "2024-07-10T15:43:46.019940Z",
     "start_time": "2024-07-10T15:43:40.802863Z"
    }
   },
   "cell_type": "code",
   "source": [
    "from matplotlib import pyplot as plt\n",
    "followers=df['Followers'].apply(convert_views)\n",
    "plt.bar(df['Influencer insta name'],followers, color='skyblue')\n",
    "plt.show()"
   ],
   "id": "74a7eac1acc06f92",
   "outputs": [
    {
     "data": {
      "text/plain": [
       "<Figure size 640x480 with 1 Axes>"
      ],
      "image/png": "[encoded data removed]"
     },
     "metadata": {},
     "output_type": "display_data"
    }
   ],
   "execution_count": 17
  }
 ],
 "metadata": {
  "kernelspec": {
   "display_name": "Python 3",
   "language": "python",
   "name": "python3"
  },
  "language_info": {
   "codemirror_mode": {
    "name": "ipython",
    "version": 2
   },
   "file_extension": ".py",
   "mimetype": "text/x-python",
   "name": "python",
   "nbconvert_exporter": "python",
   "pygments_lexer": "ipython2",
   "version": "2.7.6"
  }
 },
 "nbformat": 4,
 "nbformat_minor": 5
}
